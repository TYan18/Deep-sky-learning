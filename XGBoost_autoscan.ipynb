{
 "cells": [
  {
   "cell_type": "code",
   "execution_count": 36,
   "metadata": {},
   "outputs": [],
   "source": [
    "import numpy as np\n",
    "import pandas as pd\n",
    "import matplotlib.pyplot as plt\n",
    "from sklearn.model_selection import train_test_split\n",
    "from sklearn.metrics import accuracy_score, precision_score,\\\n",
    "recall_score, confusion_matrix, plot_confusion_matrix,\\\n",
    "roc_auc_score, roc_curve\n",
    "import xgboost as xgb"
   ]
  },
  {
   "cell_type": "code",
   "execution_count": 2,
   "metadata": {},
   "outputs": [
    {
     "data": {
      "text/html": [
       "<div>\n",
       "<style scoped>\n",
       "    .dataframe tbody tr th:only-of-type {\n",
       "        vertical-align: middle;\n",
       "    }\n",
       "\n",
       "    .dataframe tbody tr th {\n",
       "        vertical-align: top;\n",
       "    }\n",
       "\n",
       "    .dataframe thead th {\n",
       "        text-align: right;\n",
       "    }\n",
       "</style>\n",
       "<table border=\"1\" class=\"dataframe\">\n",
       "  <thead>\n",
       "    <tr style=\"text-align: right;\">\n",
       "      <th></th>\n",
       "      <th>ID</th>\n",
       "      <th>OBJECT_TYPE</th>\n",
       "      <th>AMP</th>\n",
       "      <th>A_IMAGE</th>\n",
       "      <th>A_REF</th>\n",
       "      <th>BAND</th>\n",
       "      <th>B_IMAGE</th>\n",
       "      <th>B_REF</th>\n",
       "      <th>CCDID</th>\n",
       "      <th>COLMEDS</th>\n",
       "      <th>...</th>\n",
       "      <th>N3SIG3</th>\n",
       "      <th>N3SIG3SHIFT</th>\n",
       "      <th>N3SIG5</th>\n",
       "      <th>N3SIG5SHIFT</th>\n",
       "      <th>NN_DIST_RENORM</th>\n",
       "      <th>NUMNEGRN</th>\n",
       "      <th>SCALE</th>\n",
       "      <th>SNR</th>\n",
       "      <th>SPREADERR_MODEL</th>\n",
       "      <th>SPREAD_MODEL</th>\n",
       "    </tr>\n",
       "  </thead>\n",
       "  <tbody>\n",
       "    <tr>\n",
       "      <th>0</th>\n",
       "      <td>10742010</td>\n",
       "      <td>0</td>\n",
       "      <td>0.808323</td>\n",
       "      <td>1.508</td>\n",
       "      <td>2.650069</td>\n",
       "      <td>i</td>\n",
       "      <td>0.950</td>\n",
       "      <td>1.899501</td>\n",
       "      <td>10</td>\n",
       "      <td>0.112077</td>\n",
       "      <td>...</td>\n",
       "      <td>0</td>\n",
       "      <td>-8</td>\n",
       "      <td>0</td>\n",
       "      <td>-9</td>\n",
       "      <td>0.674934</td>\n",
       "      <td>22</td>\n",
       "      <td>2.024122</td>\n",
       "      <td>7.722346</td>\n",
       "      <td>0.004629</td>\n",
       "      <td>-0.003718</td>\n",
       "    </tr>\n",
       "    <tr>\n",
       "      <th>1</th>\n",
       "      <td>8828139</td>\n",
       "      <td>0</td>\n",
       "      <td>0.975141</td>\n",
       "      <td>1.430</td>\n",
       "      <td>NaN</td>\n",
       "      <td>i</td>\n",
       "      <td>1.319</td>\n",
       "      <td>NaN</td>\n",
       "      <td>10</td>\n",
       "      <td>0.072256</td>\n",
       "      <td>...</td>\n",
       "      <td>0</td>\n",
       "      <td>5</td>\n",
       "      <td>0</td>\n",
       "      <td>5</td>\n",
       "      <td>NaN</td>\n",
       "      <td>21</td>\n",
       "      <td>1.379283</td>\n",
       "      <td>25.582918</td>\n",
       "      <td>0.002420</td>\n",
       "      <td>-0.000578</td>\n",
       "    </tr>\n",
       "    <tr>\n",
       "      <th>2</th>\n",
       "      <td>8229889</td>\n",
       "      <td>0</td>\n",
       "      <td>0.877440</td>\n",
       "      <td>0.505</td>\n",
       "      <td>NaN</td>\n",
       "      <td>z</td>\n",
       "      <td>0.494</td>\n",
       "      <td>NaN</td>\n",
       "      <td>57</td>\n",
       "      <td>0.106124</td>\n",
       "      <td>...</td>\n",
       "      <td>0</td>\n",
       "      <td>1</td>\n",
       "      <td>0</td>\n",
       "      <td>1</td>\n",
       "      <td>NaN</td>\n",
       "      <td>20</td>\n",
       "      <td>0.950069</td>\n",
       "      <td>3.914192</td>\n",
       "      <td>0.008863</td>\n",
       "      <td>-0.020044</td>\n",
       "    </tr>\n",
       "    <tr>\n",
       "      <th>3</th>\n",
       "      <td>11033218</td>\n",
       "      <td>0</td>\n",
       "      <td>0.681179</td>\n",
       "      <td>0.762</td>\n",
       "      <td>3.008957</td>\n",
       "      <td>i</td>\n",
       "      <td>0.449</td>\n",
       "      <td>2.855881</td>\n",
       "      <td>1</td>\n",
       "      <td>0.139071</td>\n",
       "      <td>...</td>\n",
       "      <td>0</td>\n",
       "      <td>-14</td>\n",
       "      <td>2</td>\n",
       "      <td>-27</td>\n",
       "      <td>1.240574</td>\n",
       "      <td>18</td>\n",
       "      <td>1.749488</td>\n",
       "      <td>5.068382</td>\n",
       "      <td>0.008041</td>\n",
       "      <td>0.000246</td>\n",
       "    </tr>\n",
       "    <tr>\n",
       "      <th>4</th>\n",
       "      <td>8341858</td>\n",
       "      <td>0</td>\n",
       "      <td>0.645906</td>\n",
       "      <td>1.205</td>\n",
       "      <td>1.352224</td>\n",
       "      <td>i</td>\n",
       "      <td>0.982</td>\n",
       "      <td>1.063333</td>\n",
       "      <td>30</td>\n",
       "      <td>0.123302</td>\n",
       "      <td>...</td>\n",
       "      <td>0</td>\n",
       "      <td>4</td>\n",
       "      <td>0</td>\n",
       "      <td>4</td>\n",
       "      <td>2.970234</td>\n",
       "      <td>16</td>\n",
       "      <td>1.930613</td>\n",
       "      <td>7.372579</td>\n",
       "      <td>0.005606</td>\n",
       "      <td>0.001771</td>\n",
       "    </tr>\n",
       "    <tr>\n",
       "      <th>...</th>\n",
       "      <td>...</td>\n",
       "      <td>...</td>\n",
       "      <td>...</td>\n",
       "      <td>...</td>\n",
       "      <td>...</td>\n",
       "      <td>...</td>\n",
       "      <td>...</td>\n",
       "      <td>...</td>\n",
       "      <td>...</td>\n",
       "      <td>...</td>\n",
       "      <td>...</td>\n",
       "      <td>...</td>\n",
       "      <td>...</td>\n",
       "      <td>...</td>\n",
       "      <td>...</td>\n",
       "      <td>...</td>\n",
       "      <td>...</td>\n",
       "      <td>...</td>\n",
       "      <td>...</td>\n",
       "      <td>...</td>\n",
       "      <td>...</td>\n",
       "    </tr>\n",
       "    <tr>\n",
       "      <th>898958</th>\n",
       "      <td>11488874</td>\n",
       "      <td>1</td>\n",
       "      <td>0.321129</td>\n",
       "      <td>1.902</td>\n",
       "      <td>4.409714</td>\n",
       "      <td>i</td>\n",
       "      <td>0.619</td>\n",
       "      <td>4.093379</td>\n",
       "      <td>56</td>\n",
       "      <td>0.047263</td>\n",
       "      <td>...</td>\n",
       "      <td>1</td>\n",
       "      <td>-22</td>\n",
       "      <td>4</td>\n",
       "      <td>-37</td>\n",
       "      <td>1.120426</td>\n",
       "      <td>12</td>\n",
       "      <td>2.002670</td>\n",
       "      <td>6.475171</td>\n",
       "      <td>0.006848</td>\n",
       "      <td>0.007744</td>\n",
       "    </tr>\n",
       "    <tr>\n",
       "      <th>898959</th>\n",
       "      <td>10061574</td>\n",
       "      <td>1</td>\n",
       "      <td>0.825902</td>\n",
       "      <td>1.851</td>\n",
       "      <td>3.478065</td>\n",
       "      <td>i</td>\n",
       "      <td>1.209</td>\n",
       "      <td>3.081573</td>\n",
       "      <td>28</td>\n",
       "      <td>0.049473</td>\n",
       "      <td>...</td>\n",
       "      <td>0</td>\n",
       "      <td>-18</td>\n",
       "      <td>2</td>\n",
       "      <td>-40</td>\n",
       "      <td>0.295019</td>\n",
       "      <td>25</td>\n",
       "      <td>1.643643</td>\n",
       "      <td>23.021852</td>\n",
       "      <td>0.002264</td>\n",
       "      <td>-0.007824</td>\n",
       "    </tr>\n",
       "    <tr>\n",
       "      <th>898960</th>\n",
       "      <td>7754827</td>\n",
       "      <td>1</td>\n",
       "      <td>0.784481</td>\n",
       "      <td>0.500</td>\n",
       "      <td>2.020185</td>\n",
       "      <td>z</td>\n",
       "      <td>0.498</td>\n",
       "      <td>1.603205</td>\n",
       "      <td>19</td>\n",
       "      <td>0.072954</td>\n",
       "      <td>...</td>\n",
       "      <td>0</td>\n",
       "      <td>-10</td>\n",
       "      <td>1</td>\n",
       "      <td>-14</td>\n",
       "      <td>0.415568</td>\n",
       "      <td>19</td>\n",
       "      <td>1.339798</td>\n",
       "      <td>4.583996</td>\n",
       "      <td>0.006801</td>\n",
       "      <td>-0.015477</td>\n",
       "    </tr>\n",
       "    <tr>\n",
       "      <th>898961</th>\n",
       "      <td>7789620</td>\n",
       "      <td>1</td>\n",
       "      <td>0.525480</td>\n",
       "      <td>2.227</td>\n",
       "      <td>9.917985</td>\n",
       "      <td>z</td>\n",
       "      <td>1.249</td>\n",
       "      <td>8.429220</td>\n",
       "      <td>49</td>\n",
       "      <td>0.105302</td>\n",
       "      <td>...</td>\n",
       "      <td>1</td>\n",
       "      <td>-12</td>\n",
       "      <td>4</td>\n",
       "      <td>-25</td>\n",
       "      <td>2.119657</td>\n",
       "      <td>12</td>\n",
       "      <td>2.247390</td>\n",
       "      <td>8.701074</td>\n",
       "      <td>0.003749</td>\n",
       "      <td>-0.001417</td>\n",
       "    </tr>\n",
       "    <tr>\n",
       "      <th>898962</th>\n",
       "      <td>7800868</td>\n",
       "      <td>1</td>\n",
       "      <td>0.929611</td>\n",
       "      <td>1.179</td>\n",
       "      <td>2.509725</td>\n",
       "      <td>g</td>\n",
       "      <td>0.937</td>\n",
       "      <td>2.286517</td>\n",
       "      <td>10</td>\n",
       "      <td>0.043455</td>\n",
       "      <td>...</td>\n",
       "      <td>3</td>\n",
       "      <td>-17</td>\n",
       "      <td>5</td>\n",
       "      <td>-26</td>\n",
       "      <td>0.816339</td>\n",
       "      <td>25</td>\n",
       "      <td>1.374400</td>\n",
       "      <td>6.302530</td>\n",
       "      <td>0.005610</td>\n",
       "      <td>-0.024097</td>\n",
       "    </tr>\n",
       "  </tbody>\n",
       "</table>\n",
       "<p>898963 rows × 40 columns</p>\n",
       "</div>"
      ],
      "text/plain": [
       "              ID  OBJECT_TYPE       AMP  A_IMAGE     A_REF BAND  B_IMAGE  \\\n",
       "0       10742010            0  0.808323    1.508  2.650069    i    0.950   \n",
       "1        8828139            0  0.975141    1.430       NaN    i    1.319   \n",
       "2        8229889            0  0.877440    0.505       NaN    z    0.494   \n",
       "3       11033218            0  0.681179    0.762  3.008957    i    0.449   \n",
       "4        8341858            0  0.645906    1.205  1.352224    i    0.982   \n",
       "...          ...          ...       ...      ...       ...  ...      ...   \n",
       "898958  11488874            1  0.321129    1.902  4.409714    i    0.619   \n",
       "898959  10061574            1  0.825902    1.851  3.478065    i    1.209   \n",
       "898960   7754827            1  0.784481    0.500  2.020185    z    0.498   \n",
       "898961   7789620            1  0.525480    2.227  9.917985    z    1.249   \n",
       "898962   7800868            1  0.929611    1.179  2.509725    g    0.937   \n",
       "\n",
       "           B_REF  CCDID   COLMEDS  ...  N3SIG3  N3SIG3SHIFT  N3SIG5  \\\n",
       "0       1.899501     10  0.112077  ...       0           -8       0   \n",
       "1            NaN     10  0.072256  ...       0            5       0   \n",
       "2            NaN     57  0.106124  ...       0            1       0   \n",
       "3       2.855881      1  0.139071  ...       0          -14       2   \n",
       "4       1.063333     30  0.123302  ...       0            4       0   \n",
       "...          ...    ...       ...  ...     ...          ...     ...   \n",
       "898958  4.093379     56  0.047263  ...       1          -22       4   \n",
       "898959  3.081573     28  0.049473  ...       0          -18       2   \n",
       "898960  1.603205     19  0.072954  ...       0          -10       1   \n",
       "898961  8.429220     49  0.105302  ...       1          -12       4   \n",
       "898962  2.286517     10  0.043455  ...       3          -17       5   \n",
       "\n",
       "        N3SIG5SHIFT  NN_DIST_RENORM  NUMNEGRN     SCALE        SNR  \\\n",
       "0                -9        0.674934        22  2.024122   7.722346   \n",
       "1                 5             NaN        21  1.379283  25.582918   \n",
       "2                 1             NaN        20  0.950069   3.914192   \n",
       "3               -27        1.240574        18  1.749488   5.068382   \n",
       "4                 4        2.970234        16  1.930613   7.372579   \n",
       "...             ...             ...       ...       ...        ...   \n",
       "898958          -37        1.120426        12  2.002670   6.475171   \n",
       "898959          -40        0.295019        25  1.643643  23.021852   \n",
       "898960          -14        0.415568        19  1.339798   4.583996   \n",
       "898961          -25        2.119657        12  2.247390   8.701074   \n",
       "898962          -26        0.816339        25  1.374400   6.302530   \n",
       "\n",
       "        SPREADERR_MODEL  SPREAD_MODEL  \n",
       "0              0.004629     -0.003718  \n",
       "1              0.002420     -0.000578  \n",
       "2              0.008863     -0.020044  \n",
       "3              0.008041      0.000246  \n",
       "4              0.005606      0.001771  \n",
       "...                 ...           ...  \n",
       "898958         0.006848      0.007744  \n",
       "898959         0.002264     -0.007824  \n",
       "898960         0.006801     -0.015477  \n",
       "898961         0.003749     -0.001417  \n",
       "898962         0.005610     -0.024097  \n",
       "\n",
       "[898963 rows x 40 columns]"
      ]
     },
     "execution_count": 2,
     "metadata": {},
     "output_type": "execute_result"
    }
   ],
   "source": [
    "# Load dataset, and skip the comment lines\n",
    "\n",
    "data = pd.read_csv('autoscan_features.3.csv', skiprows = range(6))\n",
    "data"
   ]
  },
  {
   "cell_type": "code",
   "execution_count": 3,
   "metadata": {},
   "outputs": [],
   "source": [
    "# 55814 rows of the data contain NaN values. Since there are nearly\n",
    "# 900000 rows in this dataset, I'm going to just drop these rows.\n",
    "\n",
    "data = data.dropna()"
   ]
  },
  {
   "cell_type": "code",
   "execution_count": 4,
   "metadata": {},
   "outputs": [
    {
     "data": {
      "text/plain": [
       "Index(['ID', 'OBJECT_TYPE', 'AMP', 'A_IMAGE', 'A_REF', 'BAND', 'B_IMAGE',\n",
       "       'B_REF', 'CCDID', 'COLMEDS', 'DIFFSUMRN', 'ELLIPTICITY', 'FLAGS',\n",
       "       'FLUX_RATIO', 'GAUSS', 'GFLUX', 'L1', 'LACOSMIC', 'MAG', 'MAGDIFF',\n",
       "       'MAGLIM', 'MAG_FROM_LIMIT', 'MAG_REF', 'MAG_REF_ERR', 'MASKFRAC',\n",
       "       'MIN_DISTANCE_TO_EDGE_IN_NEW', 'N2SIG3', 'N2SIG3SHIFT', 'N2SIG5',\n",
       "       'N2SIG5SHIFT', 'N3SIG3', 'N3SIG3SHIFT', 'N3SIG5', 'N3SIG5SHIFT',\n",
       "       'NN_DIST_RENORM', 'NUMNEGRN', 'SCALE', 'SNR', 'SPREADERR_MODEL',\n",
       "       'SPREAD_MODEL'],\n",
       "      dtype='object')"
      ]
     },
     "execution_count": 4,
     "metadata": {},
     "output_type": "execute_result"
    }
   ],
   "source": [
    "# Figure out the column names in the dataset\n",
    "\n",
    "data.columns"
   ]
  },
  {
   "cell_type": "code",
   "execution_count": 25,
   "metadata": {},
   "outputs": [
    {
     "data": {
      "text/plain": [
       "0    424326\n",
       "1    418823\n",
       "Name: OBJECT_TYPE, dtype: int64"
      ]
     },
     "execution_count": 25,
     "metadata": {},
     "output_type": "execute_result"
    }
   ],
   "source": [
    "# This is the target variable. A value of 0 indicates the presence \n",
    "# of a supernova. As seen here, the dataset is fairly balanced.\n",
    "\n",
    "data['OBJECT_TYPE'].value_counts()"
   ]
  },
  {
   "cell_type": "code",
   "execution_count": 6,
   "metadata": {},
   "outputs": [
    {
     "data": {
      "text/plain": [
       "ID                               int64\n",
       "OBJECT_TYPE                      int64\n",
       "AMP                            float64\n",
       "A_IMAGE                        float64\n",
       "A_REF                          float64\n",
       "BAND                            object\n",
       "B_IMAGE                        float64\n",
       "B_REF                          float64\n",
       "CCDID                            int64\n",
       "COLMEDS                        float64\n",
       "DIFFSUMRN                      float64\n",
       "ELLIPTICITY                    float64\n",
       "FLAGS                            int64\n",
       "FLUX_RATIO                     float64\n",
       "GAUSS                          float64\n",
       "GFLUX                          float64\n",
       "L1                             float64\n",
       "LACOSMIC                       float64\n",
       "MAG                            float64\n",
       "MAGDIFF                        float64\n",
       "MAGLIM                           int64\n",
       "MAG_FROM_LIMIT                 float64\n",
       "MAG_REF                        float64\n",
       "MAG_REF_ERR                    float64\n",
       "MASKFRAC                       float64\n",
       "MIN_DISTANCE_TO_EDGE_IN_NEW    float64\n",
       "N2SIG3                           int64\n",
       "N2SIG3SHIFT                      int64\n",
       "N2SIG5                           int64\n",
       "N2SIG5SHIFT                      int64\n",
       "N3SIG3                           int64\n",
       "N3SIG3SHIFT                      int64\n",
       "N3SIG5                           int64\n",
       "N3SIG5SHIFT                      int64\n",
       "NN_DIST_RENORM                 float64\n",
       "NUMNEGRN                         int64\n",
       "SCALE                          float64\n",
       "SNR                            float64\n",
       "SPREADERR_MODEL                float64\n",
       "SPREAD_MODEL                   float64\n",
       "dtype: object"
      ]
     },
     "execution_count": 6,
     "metadata": {},
     "output_type": "execute_result"
    }
   ],
   "source": [
    "# Identify the types of data in the dataframe\n",
    "\n",
    "data.dtypes"
   ]
  },
  {
   "cell_type": "code",
   "execution_count": 9,
   "metadata": {},
   "outputs": [],
   "source": [
    "# Identify the categorical (object-type) features for one-hot\n",
    "# encoding\n",
    "\n",
    "data = pd.get_dummies(data, columns = ['BAND'])"
   ]
  },
  {
   "cell_type": "code",
   "execution_count": 10,
   "metadata": {},
   "outputs": [
    {
     "data": {
      "text/plain": [
       "ID                               int64\n",
       "OBJECT_TYPE                      int64\n",
       "AMP                            float64\n",
       "A_IMAGE                        float64\n",
       "A_REF                          float64\n",
       "B_IMAGE                        float64\n",
       "B_REF                          float64\n",
       "CCDID                            int64\n",
       "COLMEDS                        float64\n",
       "DIFFSUMRN                      float64\n",
       "ELLIPTICITY                    float64\n",
       "FLAGS                            int64\n",
       "FLUX_RATIO                     float64\n",
       "GAUSS                          float64\n",
       "GFLUX                          float64\n",
       "L1                             float64\n",
       "LACOSMIC                       float64\n",
       "MAG                            float64\n",
       "MAGDIFF                        float64\n",
       "MAGLIM                           int64\n",
       "MAG_FROM_LIMIT                 float64\n",
       "MAG_REF                        float64\n",
       "MAG_REF_ERR                    float64\n",
       "MASKFRAC                       float64\n",
       "MIN_DISTANCE_TO_EDGE_IN_NEW    float64\n",
       "N2SIG3                           int64\n",
       "N2SIG3SHIFT                      int64\n",
       "N2SIG5                           int64\n",
       "N2SIG5SHIFT                      int64\n",
       "N3SIG3                           int64\n",
       "N3SIG3SHIFT                      int64\n",
       "N3SIG5                           int64\n",
       "N3SIG5SHIFT                      int64\n",
       "NN_DIST_RENORM                 float64\n",
       "NUMNEGRN                         int64\n",
       "SCALE                          float64\n",
       "SNR                            float64\n",
       "SPREADERR_MODEL                float64\n",
       "SPREAD_MODEL                   float64\n",
       "BAND_g                           uint8\n",
       "BAND_i                           uint8\n",
       "BAND_r                           uint8\n",
       "BAND_z                           uint8\n",
       "dtype: object"
      ]
     },
     "execution_count": 10,
     "metadata": {},
     "output_type": "execute_result"
    }
   ],
   "source": [
    "# Check that all the datatypes are numerical after one-hot encoding\n",
    "\n",
    "data.dtypes"
   ]
  },
  {
   "cell_type": "code",
   "execution_count": 16,
   "metadata": {},
   "outputs": [],
   "source": [
    "# Designate the X (features) and y (target) variables\n",
    "\n",
    "X = data.drop(['ID', 'OBJECT_TYPE'], axis = 1)\n",
    "y = data['OBJECT_TYPE']"
   ]
  },
  {
   "cell_type": "code",
   "execution_count": 17,
   "metadata": {},
   "outputs": [],
   "source": [
    "# Split the data into training and testing data, with 80% training\n",
    "# and 20% testing\n",
    "\n",
    "X_train, X_test, y_train, y_test = train_test_split(X, y,\n",
    "                                                   test_size = 0.2,\n",
    "                                                   stratify = y)"
   ]
  },
  {
   "cell_type": "code",
   "execution_count": 18,
   "metadata": {},
   "outputs": [
    {
     "name": "stderr",
     "output_type": "stream",
     "text": [
      "C:\\Users\\titan\\Anaconda3\\lib\\site-packages\\xgboost\\sklearn.py:888: UserWarning: The use of label encoder in XGBClassifier is deprecated and will be removed in a future release. To remove this warning, do the following: 1) Pass option use_label_encoder=False when constructing XGBClassifier object; and 2) Encode your labels (y) as integers starting with 0, i.e. 0, 1, 2, ..., [num_class - 1].\n",
      "  warnings.warn(label_encoder_deprecation_msg, UserWarning)\n"
     ]
    },
    {
     "name": "stdout",
     "output_type": "stream",
     "text": [
      "[18:32:55] WARNING: C:/Users/Administrator/workspace/xgboost-win64_release_1.3.0/src/learner.cc:1061: Starting in XGBoost 1.3.0, the default evaluation metric used with the objective 'binary:logistic' was changed from 'error' to 'logloss'. Explicitly set eval_metric if you'd like to restore the old behavior.\n"
     ]
    },
    {
     "data": {
      "text/plain": [
       "XGBClassifier(base_score=0.5, booster='gbtree', colsample_bylevel=1,\n",
       "              colsample_bynode=1, colsample_bytree=1, gamma=0, gpu_id=-1,\n",
       "              importance_type='gain', interaction_constraints='',\n",
       "              learning_rate=0.300000012, max_delta_step=0, max_depth=6,\n",
       "              min_child_weight=1, missing=nan, monotone_constraints='()',\n",
       "              n_estimators=100, n_jobs=8, num_parallel_tree=1,\n",
       "              objective='binary:logistic', random_state=0, reg_alpha=0,\n",
       "              reg_lambda=1, scale_pos_weight=1, subsample=1,\n",
       "              tree_method='exact', use_label_encoder=True,\n",
       "              validate_parameters=1, verbosity=None)"
      ]
     },
     "execution_count": 18,
     "metadata": {},
     "output_type": "execute_result"
    }
   ],
   "source": [
    "# Call an instance of the XGBClassifier with the default parameters\n",
    "# and fit to the training data\n",
    "\n",
    "xgboost = xgb.XGBClassifier()\n",
    "xgboost.fit(X_train, y_train)"
   ]
  },
  {
   "cell_type": "code",
   "execution_count": 21,
   "metadata": {},
   "outputs": [],
   "source": [
    "# Make predictions using the test features\n",
    "\n",
    "y_pred = xgboost.predict(X_test)"
   ]
  },
  {
   "cell_type": "code",
   "execution_count": 22,
   "metadata": {},
   "outputs": [
    {
     "name": "stdout",
     "output_type": "stream",
     "text": [
      "Accuracy\n",
      "0.9679890885370337\n"
     ]
    }
   ],
   "source": [
    "# Accuracy score (ratio of total correct predictions)\n",
    "\n",
    "print('Accuracy')\n",
    "print(accuracy_score(y_test, y_pred))"
   ]
  },
  {
   "cell_type": "code",
   "execution_count": 23,
   "metadata": {},
   "outputs": [
    {
     "name": "stdout",
     "output_type": "stream",
     "text": [
      "Precision\n",
      "0.9633098033651402\n"
     ]
    }
   ],
   "source": [
    "# Precision score (ratio of correct positive predictions)\n",
    "\n",
    "print('Precision')\n",
    "print(precision_score(y_test, y_pred))"
   ]
  },
  {
   "cell_type": "code",
   "execution_count": 24,
   "metadata": {},
   "outputs": [
    {
     "name": "stdout",
     "output_type": "stream",
     "text": [
      "Recall\n",
      "0.972601922043813\n"
     ]
    }
   ],
   "source": [
    "# Recall score (ratio of positives correctly identified)\n",
    "\n",
    "print('Recall')\n",
    "print(recall_score(y_test, y_pred))"
   ]
  },
  {
   "cell_type": "code",
   "execution_count": 33,
   "metadata": {},
   "outputs": [
    {
     "name": "stdout",
     "output_type": "stream",
     "text": [
      "[[81762  3103]\n",
      " [ 2295 81470]]\n",
      "<sklearn.metrics._plot.confusion_matrix.ConfusionMatrixDisplay object at 0x0000026611B6AA88>\n"
     ]
    },
    {
     "data": {
      "image/png": "[encoded data removed]",
      "text/plain": [
       "<Figure size 432x288 with 2 Axes>"
      ]
     },
     "metadata": {
      "needs_background": "light"
     },
     "output_type": "display_data"
    }
   ],
   "source": [
    "# Confusion matrix showing true and false predictions\n",
    "\n",
    "print(confusion_matrix(y_test, y_pred))\n",
    "print(plot_confusion_matrix(xgboost, X_test, y_test,\n",
    "                            cmap = plt.cm.Blues))"
   ]
  },
  {
   "cell_type": "code",
   "execution_count": 35,
   "metadata": {},
   "outputs": [
    {
     "name": "stdout",
     "output_type": "stream",
     "text": [
      "0.9680189837639085\n"
     ]
    }
   ],
   "source": [
    "# Calculate the ROC-AUC metric\n",
    "\n",
    "print(roc_auc_score(y_test, y_pred))"
   ]
  },
  {
   "cell_type": "code",
   "execution_count": 42,
   "metadata": {},
   "outputs": [
    {
     "data": {
      "image/png": "[encoded data removed]",
      "text/plain": [
       "<Figure size 432x288 with 1 Axes>"
      ]
     },
     "metadata": {
      "needs_background": "light"
     },
     "output_type": "display_data"
    }
   ],
   "source": [
    "# Plot the ROC curve\n",
    "\n",
    "y_pred_proba = xgboost.predict_proba(X_test)\n",
    "fpr, tpr, thresholds = roc_curve(y_test, y_pred_proba[:, 1])\n",
    "plt.plot(fpr, tpr, linestyle = '--', label = 'XGBoost')\n",
    "plt.xlabel('False Positive Rate')\n",
    "plt.ylabel('True Positive Rate')\n",
    "plt.legend()\n",
    "plt.show()"
   ]
  }
 ],
 "metadata": {
  "kernelspec": {
   "display_name": "Python 3",
   "language": "python",
   "name": "python3"
  },
  "language_info": {
   "codemirror_mode": {
    "name": "ipython",
    "version": 3
   },
   "file_extension": ".py",
   "mimetype": "text/x-python",
   "name": "python",
   "nbconvert_exporter": "python",
   "pygments_lexer": "ipython3",
   "version": "3.7.6"
  }
 },
 "nbformat": 4,
 "nbformat_minor": 4
}
