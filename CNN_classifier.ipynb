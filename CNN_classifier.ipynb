{
 "cells": [
  {
   "cell_type": "code",
   "execution_count": 53,
   "metadata": {},
   "outputs": [],
   "source": [
    "import numpy as np\n",
    "import pandas as pd\n",
    "import matplotlib.pyplot as plt\n",
    "from sklearn.model_selection import train_test_split\n",
    "from sklearn.metrics import accuracy_score, precision_score,\\\n",
    "recall_score, confusion_matrix, ConfusionMatrixDisplay,\\\n",
    "f1_score, precision_recall_curve, PrecisionRecallDisplay\n",
    "\n",
    "import pickle\n",
    "import os\n",
    "import astropy\n",
    "from astropy.io import fits\n",
    "from time import process_time\n",
    "\n",
    "import tensorflow as tf\n",
    "from tensorflow import keras\n",
    "from tensorflow.keras import layers\n",
    "from tensorflow.keras.models import Sequential\n",
    "from tensorflow.keras.layers import Activation\n",
    "from tensorflow.keras.layers import BatchNormalization\n",
    "from tensorflow.keras.layers import Convolution2D, Conv2D\n",
    "from tensorflow.keras.layers import MaxPooling2D\n",
    "from tensorflow.keras.layers import Flatten\n",
    "from tensorflow.keras.layers import Dense\n",
    "from tensorflow.keras.layers import Dropout\n",
    "from tensorflow.keras.optimizers import Adam\n",
    "from tensorflow.keras.utils import to_categorical"
   ]
  },
  {
   "cell_type": "markdown",
   "metadata": {},
   "source": [
    "### Extracting the telescope images from .FITS files"
   ]
  },
  {
   "cell_type": "code",
   "execution_count": null,
   "metadata": {},
   "outputs": [],
   "source": [
    "# Example for opening a FITS file with Astropy and extracting the Header Data Unit (HDU)\n",
    "# list object\n",
    "\n",
    "hdul = fits.open(r'')\n",
    "hdul.info"
   ]
  },
  {
   "cell_type": "code",
   "execution_count": null,
   "metadata": {},
   "outputs": [],
   "source": [
    "# Header information containing the image description, details, and comments\n",
    "\n",
    "hdul[0].header"
   ]
  },
  {
   "cell_type": "code",
   "execution_count": null,
   "metadata": {},
   "outputs": [],
   "source": [
    "# Data containing a Numpy array of the image pixels\n",
    "\n",
    "hdul[0].data"
   ]
  },
  {
   "cell_type": "code",
   "execution_count": null,
   "metadata": {},
   "outputs": [],
   "source": [
    "# The numpy.dstack() function will be used to append all of the 2D\n",
    "# image arrays into a 3D array of dimensions (51, 51, n), where n\n",
    "# iis the number of images\n",
    "\n",
    "arr1 = hdul[0].data\n",
    "arr2 = np.dstack((arr1, arr1))\n",
    "\n",
    "print(arr1.shape)\n",
    "print(arr2.shape)"
   ]
  },
  {
   "cell_type": "markdown",
   "metadata": {},
   "source": [
    "### Combining the images and labels via image ID"
   ]
  },
  {
   "cell_type": "code",
   "execution_count": 12,
   "metadata": {},
   "outputs": [],
   "source": [
    "# Load the classifier labels (0 for supernova, 1 for no supernova)\n",
    "\n",
    "data = pd.read_csv('autoscan_features.3.csv', skiprows = range(6))"
   ]
  },
  {
   "cell_type": "code",
   "execution_count": 15,
   "metadata": {},
   "outputs": [],
   "source": [
    "# Load all of the difference image 2D arrays (accessed via hdul[0].data)\n",
    "# using a for-loop\n",
    "\n",
    "directory1 = r''\n",
    "filenames = []\n",
    "images1 = np.empty(shape = (51, 51), dtype = 'float32')\n",
    "\n",
    "for filename in os.listdir(directory1):\n",
    "    with fits.open(directory1 + '\\\\' + filename) as hdul:\n",
    "        filenames.append(filename)\n",
    "        images1 = np.dstack((images1, hdul[0].data))"
   ]
  },
  {
   "cell_type": "code",
   "execution_count": 16,
   "metadata": {},
   "outputs": [],
   "source": [
    "# Load all of the template image 2D arrays (accessed via hdul[0].data)\n",
    "# using a for-loop\n",
    "\n",
    "directory2 = r''\n",
    "images2 = np.empty(shape = (51, 51), dtype = 'float32')\n",
    "\n",
    "for filename in os.listdir(directory2):\n",
    "    with fits.open(directory2 + '\\\\' + filename) as hdul:\n",
    "        images2 = np.dstack((images2, hdul[0].data))"
   ]
  },
  {
   "cell_type": "code",
   "execution_count": 17,
   "metadata": {},
   "outputs": [],
   "source": [
    "# Load all of the search image 2D arrays (accessed via hdul[0].data)\n",
    "# using a for-loop\n",
    "\n",
    "directory3 = r''\n",
    "images3 = np.empty(shape = (51, 51), dtype = 'float32')\n",
    "\n",
    "for filename in os.listdir(directory3):\n",
    "    with fits.open(directory3 + '\\\\' + filename) as hdul:\n",
    "        images3 = np.dstack((images3, hdul[0].data))"
   ]
  },
  {
   "cell_type": "code",
   "execution_count": 18,
   "metadata": {},
   "outputs": [
    {
     "name": "stdout",
     "output_type": "stream",
     "text": [
      "(51, 51, 21639)\n",
      "(51, 51, 21639)\n",
      "(51, 51, 21639)\n"
     ]
    }
   ],
   "source": [
    "# Delete the first d-stacked empty 2D array and check the final\n",
    "# shape of the images 3D arrays\n",
    "\n",
    "images1 = images1[:, :, 1:]\n",
    "images2 = images2[:, :, 1:]\n",
    "images3 = images3[:, :, 1:]\n",
    "\n",
    "print(images1.shape)\n",
    "print(images2.shape)\n",
    "print(images3.shape)"
   ]
  },
  {
   "cell_type": "code",
   "execution_count": 19,
   "metadata": {},
   "outputs": [],
   "source": [
    "# Change the images IDs in the dataframe to match the FITS image filenames\n",
    "\n",
    "diffs = []\n",
    "temps = []\n",
    "srchs = []\n",
    "\n",
    "for num in data['ID']:\n",
    "    diffs.append('diff' + str(num) + '.fits')\n",
    "    temps.append('temp' + str(num) + '.fits')\n",
    "    srchs.append('srch' + str(num) + '.fits')"
   ]
  },
  {
   "cell_type": "code",
   "execution_count": 20,
   "metadata": {},
   "outputs": [],
   "source": [
    "# Set the 'ID' column to reflect the entire filename, for ease of mapping the filename to the\n",
    "# correct label\n",
    "\n",
    "data['Diffs_ID'] = diffs\n",
    "data['Temps_ID'] = temps\n",
    "data['Srchs_ID'] = srchs"
   ]
  },
  {
   "cell_type": "code",
   "execution_count": 21,
   "metadata": {},
   "outputs": [],
   "source": [
    "# Only keep the relevant columns\n",
    "\n",
    "data1 = data[['Diffs_ID', 'OBJECT_TYPE']]\n",
    "data2 = data[['Temps_ID', 'OBJECT_TYPE']]\n",
    "data3 = data[['Srchs_ID', 'OBJECT_TYPE']]"
   ]
  },
  {
   "cell_type": "code",
   "execution_count": 22,
   "metadata": {},
   "outputs": [],
   "source": [
    "# Convert the dataframe to a list of dictionaries, where the IDs are the keys and\n",
    "# the labels (object type) are the values\n",
    "\n",
    "data_dict1 = data1.to_dict(orient = 'records')\n",
    "data_dict2 = data2.to_dict(orient = 'records')\n",
    "data_dict2 = data3.to_dict(orient = 'records')"
   ]
  },
  {
   "cell_type": "code",
   "execution_count": 23,
   "metadata": {},
   "outputs": [],
   "source": [
    "# Add the corresponding labels (0 or 1) to a tuple, with the corresponding IDs\n",
    "\n",
    "labels = []\n",
    "\n",
    "for j in range(len(data_dict1)):\n",
    "    if data_dict1[j]['Diffs_ID'] in filenames:\n",
    "        labels.append((data_dict1[j]['Diffs_ID'],\n",
    "                       data_dict1[j]['OBJECT_TYPE']))"
   ]
  },
  {
   "cell_type": "code",
   "execution_count": 24,
   "metadata": {},
   "outputs": [],
   "source": [
    "# Rearrange the IDs and labels so that the order is the same as the list of filenames,\n",
    "# which is the order that the 2D arrays of images were appended into the 3D images array\n",
    "\n",
    "ordered_labels = []\n",
    "\n",
    "for i in range(len(filenames)):\n",
    "    for j in range(len(labels)):\n",
    "        if filenames[i] == labels[j][0]:\n",
    "            ordered_labels.append((labels[j][0], labels[j][1]))"
   ]
  },
  {
   "cell_type": "code",
   "execution_count": 25,
   "metadata": {},
   "outputs": [
    {
     "name": "stdout",
     "output_type": "stream",
     "text": [
      "[('diff10910985.fits', 0), ('diff10921299.fits', 1), ('diff10921304.fits', 0), ('diff10927330.fits', 0), ('diff10927339.fits', 1), ('diff10927479.fits', 1), ('diff10927629.fits', 0), ('diff10927637.fits', 1), ('diff10927932.fits', 0), ('diff10927980.fits', 0)]\n",
      "['diff10910985.fits', 'diff10921299.fits', 'diff10921304.fits', 'diff10927330.fits', 'diff10927339.fits', 'diff10927479.fits', 'diff10927629.fits', 'diff10927637.fits', 'diff10927932.fits', 'diff10927980.fits']\n"
     ]
    }
   ],
   "source": [
    "# Check that the order is the same between the labels and filenames (images)\n",
    "\n",
    "print(ordered_labels[:10])\n",
    "print(filenames[:10])"
   ]
  },
  {
   "cell_type": "code",
   "execution_count": 26,
   "metadata": {},
   "outputs": [
    {
     "name": "stdout",
     "output_type": "stream",
     "text": [
      "4686\n"
     ]
    }
   ],
   "source": [
    "# Now that the labels are in order, keep only the labels, and find out how\n",
    "# many labels are 0 and 1 (the sum gives the number of labels that are 1)\n",
    "\n",
    "final_labels = [label[1] for label in ordered_labels]\n",
    "final_labels = np.array(final_labels)\n",
    "print(final_labels.sum())"
   ]
  },
  {
   "cell_type": "code",
   "execution_count": 27,
   "metadata": {},
   "outputs": [
    {
     "name": "stdout",
     "output_type": "stream",
     "text": [
      "(21639, 3, 51, 51)\n"
     ]
    }
   ],
   "source": [
    "# Combine the three different image channels, and normalize the\n",
    "# Numpy array images so that they are ready to be fed into the CNN\n",
    "# model\n",
    "\n",
    "images1 = images1.reshape(len(filenames), 51, 51)\n",
    "images2 = images2.reshape(len(filenames), 51, 51)\n",
    "images3 = images3.reshape(len(filenames), 51, 51)\n",
    "\n",
    "images1 = images1[:, np.newaxis, :, :]\n",
    "images2 = images2[:, np.newaxis, :, :]\n",
    "images3 = images3[:, np.newaxis, :, :]\n",
    "\n",
    "images = np.concatenate((images1, images2, images3), axis = 1)\n",
    "images = images / 255\n",
    "print(images.shape)"
   ]
  },
  {
   "cell_type": "code",
   "execution_count": 38,
   "metadata": {},
   "outputs": [
    {
     "data": {
      "image/png": "[encoded data removed]",
      "text/plain": [
       "<Figure size 720x720 with 25 Axes>"
      ]
     },
     "metadata": {},
     "output_type": "display_data"
    }
   ],
   "source": [
    "# Display the images\n",
    "\n",
    "plt.figure(figsize = (10, 10))\n",
    "for i in range(25):\n",
    "    plt.subplot(5, 5, i + 1)\n",
    "    plt.xticks([])\n",
    "    plt.yticks([])\n",
    "    plt.grid(False)\n",
    "    plt.imshow(images[i, 0, :, :], cmap = plt.cm.binary)\n",
    "    plt.xlabel(final_labels[i])\n",
    "plt.show()"
   ]
  },
  {
   "cell_type": "code",
   "execution_count": 2,
   "metadata": {},
   "outputs": [],
   "source": [
    "# Pickle the images and labels so that they will be easily loaded\n",
    "# in the future\n",
    "\n",
    "with open('2014_images.pkl', 'wb') as handle:\n",
    "    pickle.dump(images, handle, protocol = pickle.HIGHEST_PROTOCOL)\n",
    "\n",
    "with open('2014_labels.pkl', 'wb', compression = 'gzip') as handle:\n",
    "    pickle.dump(final_labels, handle, protocol = pickle.HIGHEST_PROTOCOL)"
   ]
  },
  {
   "cell_type": "markdown",
   "metadata": {},
   "source": [
    "### Load the pickled images dataset and labels here"
   ]
  },
  {
   "cell_type": "code",
   "execution_count": 3,
   "metadata": {},
   "outputs": [],
   "source": [
    "# If running this Notebook in a new session, run the first cell of\n",
    "# imports and then load the pickled data\n",
    "\n",
    "with open('2014_images.pkl', 'rb') as handle:\n",
    "    images = pickle.load(handle)\n",
    "    \n",
    "with open('2014_labels.pkl', 'rb') as handle:\n",
    "    final_labels = pickle.load(handle)"
   ]
  },
  {
   "cell_type": "code",
   "execution_count": 28,
   "metadata": {},
   "outputs": [],
   "source": [
    "# Split the image and target dataset into 80% training and 20% testing by indexing\n",
    "\n",
    "indices = list(range(len(final_labels)))\n",
    "train_indices, test_indices = train_test_split(indices, test_size = 0.2)\n",
    "\n",
    "images_train = images[train_indices, :, :, :]\n",
    "images_test = images[test_indices, :, :, :]\n",
    "\n",
    "labels_train = final_labels[train_indices]\n",
    "labels_test = final_labels[test_indices]"
   ]
  },
  {
   "cell_type": "code",
   "execution_count": 5,
   "metadata": {},
   "outputs": [
    {
     "name": "stdout",
     "output_type": "stream",
     "text": [
      "(17311, 3, 51, 51)\n",
      "(4328, 3, 51, 51)\n",
      "(17311,)\n",
      "(4328,)\n"
     ]
    }
   ],
   "source": [
    "# Print shapes of training and test data to get the input shape required for CNN\n",
    "\n",
    "print(images_train.shape)\n",
    "print(images_test.shape)\n",
    "print(labels_train.shape)\n",
    "print(labels_test.shape)"
   ]
  },
  {
   "cell_type": "markdown",
   "metadata": {},
   "source": [
    "### CNN model"
   ]
  },
  {
   "cell_type": "markdown",
   "metadata": {},
   "source": [
    "#### Initial simple baseline CNN model"
   ]
  },
  {
   "cell_type": "code",
   "execution_count": 9,
   "metadata": {},
   "outputs": [
    {
     "name": "stdout",
     "output_type": "stream",
     "text": [
      "Model: \"sequential\"\n",
      "_________________________________________________________________\n",
      "Layer (type)                 Output Shape              Param #   \n",
      "=================================================================\n",
      "conv2d (Conv2D)              (None, 3, 51, 32)         14720     \n",
      "_________________________________________________________________\n",
      "max_pooling2d (MaxPooling2D) (None, 2, 26, 32)         0         \n",
      "_________________________________________________________________\n",
      "conv2d_1 (Conv2D)            (None, 2, 26, 64)         18496     \n",
      "_________________________________________________________________\n",
      "max_pooling2d_1 (MaxPooling2 (None, 1, 13, 64)         0         \n",
      "_________________________________________________________________\n",
      "flatten (Flatten)            (None, 832)               0         \n",
      "_________________________________________________________________\n",
      "dense (Dense)                (None, 512)               426496    \n",
      "_________________________________________________________________\n",
      "dense_1 (Dense)              (None, 1)                 513       \n",
      "=================================================================\n",
      "Total params: 460,225\n",
      "Trainable params: 460,225\n",
      "Non-trainable params: 0\n",
      "_________________________________________________________________\n"
     ]
    }
   ],
   "source": [
    "# Build the CNN model as a sequential layered structure, then\n",
    "# summarize the model\n",
    "\n",
    "network = Sequential()\n",
    "network.add(Conv2D(32, (3, 3), activation = 'relu', padding = 'same',\n",
    "                   input_shape = (3, 51, 51)))\n",
    "network.add(MaxPooling2D(pool_size = (2, 2), padding = 'same'))\n",
    "network.add(Conv2D(64, (3, 3), activation = 'relu', padding = 'same'))\n",
    "network.add(MaxPooling2D(pool_size = (2, 2), padding = 'same'))\n",
    "network.add(Flatten())\n",
    "network.add(Dense(512, activation = 'relu'))\n",
    "network.add(Dense(1, activation = 'sigmoid'))\n",
    "network.compile(optimizer = 'adam',\n",
    "                loss = 'binary_crossentropy',\n",
    "                metrics = ['accuracy'])\n",
    "network.summary()"
   ]
  },
  {
   "cell_type": "code",
   "execution_count": 10,
   "metadata": {},
   "outputs": [
    {
     "name": "stdout",
     "output_type": "stream",
     "text": [
      "Epoch 1/100\n",
      "541/541 [==============================] - 10s 17ms/step - loss: 0.8308 - accuracy: 0.7682\n",
      "Epoch 2/100\n",
      "541/541 [==============================] - 10s 18ms/step - loss: 0.5186 - accuracy: 0.7874\n",
      "Epoch 3/100\n",
      "541/541 [==============================] - 11s 19ms/step - loss: 0.5174 - accuracy: 0.7809\n",
      "Epoch 4/100\n",
      "541/541 [==============================] - 10s 18ms/step - loss: 0.5013 - accuracy: 0.7819\n",
      "Epoch 5/100\n",
      "541/541 [==============================] - 9s 17ms/step - loss: 0.4870 - accuracy: 0.7844\n",
      "Epoch 6/100\n",
      "541/541 [==============================] - 9s 17ms/step - loss: 0.4671 - accuracy: 0.7908\n",
      "Epoch 7/100\n",
      "541/541 [==============================] - 9s 17ms/step - loss: 0.4457 - accuracy: 0.7972\n",
      "Epoch 8/100\n",
      "541/541 [==============================] - 9s 17ms/step - loss: 0.4173 - accuracy: 0.8089\n",
      "Epoch 9/100\n",
      "541/541 [==============================] - 9s 16ms/step - loss: 0.3853 - accuracy: 0.8150\n",
      "Epoch 10/100\n",
      "541/541 [==============================] - 9s 17ms/step - loss: 0.3588 - accuracy: 0.8259\n",
      "Epoch 11/100\n",
      "541/541 [==============================] - 9s 16ms/step - loss: 0.3217 - accuracy: 0.8456\n",
      "Epoch 12/100\n",
      "541/541 [==============================] - 9s 17ms/step - loss: 0.2893 - accuracy: 0.8663\n",
      "Epoch 13/100\n",
      "541/541 [==============================] - 9s 17ms/step - loss: 0.2633 - accuracy: 0.8829\n",
      "Epoch 14/100\n",
      "541/541 [==============================] - 9s 17ms/step - loss: 0.2294 - accuracy: 0.8994\n",
      "Epoch 15/100\n",
      "541/541 [==============================] - 9s 16ms/step - loss: 0.2118 - accuracy: 0.9078\n",
      "Epoch 16/100\n",
      "541/541 [==============================] - 8s 16ms/step - loss: 0.1848 - accuracy: 0.9202\n",
      "Epoch 17/100\n",
      "541/541 [==============================] - 9s 17ms/step - loss: 0.1686 - accuracy: 0.9260\n",
      "Epoch 18/100\n",
      "541/541 [==============================] - 9s 17ms/step - loss: 0.1547 - accuracy: 0.9333\n",
      "Epoch 19/100\n",
      "541/541 [==============================] - 10s 18ms/step - loss: 0.1366 - accuracy: 0.9438\n",
      "Epoch 20/100\n",
      "541/541 [==============================] - 10s 18ms/step - loss: 0.1212 - accuracy: 0.9493\n",
      "Epoch 21/100\n",
      "541/541 [==============================] - 10s 18ms/step - loss: 0.1180 - accuracy: 0.9506\n",
      "Epoch 22/100\n",
      "541/541 [==============================] - 9s 16ms/step - loss: 0.1665 - accuracy: 0.9462\n",
      "Epoch 23/100\n",
      "541/541 [==============================] - 9s 16ms/step - loss: 0.1078 - accuracy: 0.9594\n",
      "Epoch 24/100\n",
      "541/541 [==============================] - 9s 17ms/step - loss: 0.0897 - accuracy: 0.9652\n",
      "Epoch 25/100\n",
      "541/541 [==============================] - 10s 18ms/step - loss: 0.0827 - accuracy: 0.9662\n",
      "Epoch 26/100\n",
      "541/541 [==============================] - 9s 17ms/step - loss: 0.0850 - accuracy: 0.9661\n",
      "Epoch 27/100\n",
      "541/541 [==============================] - 9s 17ms/step - loss: 0.1040 - accuracy: 0.9606\n",
      "Epoch 28/100\n",
      "541/541 [==============================] - 9s 17ms/step - loss: 0.0956 - accuracy: 0.9656\n",
      "Epoch 29/100\n",
      "541/541 [==============================] - 9s 17ms/step - loss: 0.2216 - accuracy: 0.9621\n",
      "Epoch 30/100\n",
      "541/541 [==============================] - 9s 17ms/step - loss: 0.0887 - accuracy: 0.9668\n",
      "Epoch 31/100\n",
      "541/541 [==============================] - 9s 17ms/step - loss: 0.0571 - accuracy: 0.9787\n",
      "Epoch 32/100\n",
      "541/541 [==============================] - 9s 17ms/step - loss: 0.0506 - accuracy: 0.9798\n",
      "Epoch 33/100\n",
      "541/541 [==============================] - 9s 16ms/step - loss: 0.0559 - accuracy: 0.9790\n",
      "Epoch 34/100\n",
      "541/541 [==============================] - 9s 17ms/step - loss: 0.0527 - accuracy: 0.9813\n",
      "Epoch 35/100\n",
      "541/541 [==============================] - 9s 17ms/step - loss: 0.0719 - accuracy: 0.9739\n",
      "Epoch 36/100\n",
      "541/541 [==============================] - 9s 17ms/step - loss: 0.0608 - accuracy: 0.9785\n",
      "Epoch 37/100\n",
      "541/541 [==============================] - 9s 17ms/step - loss: 0.0525 - accuracy: 0.9821\n",
      "Epoch 38/100\n",
      "541/541 [==============================] - 9s 17ms/step - loss: 0.0422 - accuracy: 0.9838\n",
      "Epoch 39/100\n",
      "541/541 [==============================] - 9s 16ms/step - loss: 0.0545 - accuracy: 0.9806\n",
      "Epoch 40/100\n",
      "541/541 [==============================] - 9s 17ms/step - loss: 0.0549 - accuracy: 0.9819\n",
      "Epoch 41/100\n",
      "541/541 [==============================] - 9s 17ms/step - loss: 0.0542 - accuracy: 0.9803\n",
      "Epoch 42/100\n",
      "541/541 [==============================] - 9s 17ms/step - loss: 0.0440 - accuracy: 0.9851\n",
      "Epoch 43/100\n",
      "541/541 [==============================] - 9s 17ms/step - loss: 0.0484 - accuracy: 0.9859\n",
      "Epoch 44/100\n",
      "541/541 [==============================] - 9s 17ms/step - loss: 0.0525 - accuracy: 0.9833\n",
      "Epoch 45/100\n",
      "541/541 [==============================] - 9s 17ms/step - loss: 0.0528 - accuracy: 0.9838\n",
      "Epoch 46/100\n",
      "541/541 [==============================] - 10s 19ms/step - loss: 0.0463 - accuracy: 0.9864\n",
      "Epoch 47/100\n",
      "541/541 [==============================] - 11s 20ms/step - loss: 0.0450 - accuracy: 0.9867\n",
      "Epoch 48/100\n",
      "541/541 [==============================] - 10s 19ms/step - loss: 0.0310 - accuracy: 0.9905\n",
      "Epoch 49/100\n",
      "541/541 [==============================] - 9s 16ms/step - loss: 0.0593 - accuracy: 0.9826\n",
      "Epoch 50/100\n",
      "541/541 [==============================] - 9s 16ms/step - loss: 0.0447 - accuracy: 0.9868\n",
      "Epoch 51/100\n",
      "541/541 [==============================] - 9s 16ms/step - loss: 0.0361 - accuracy: 0.9885\n",
      "Epoch 52/100\n",
      "541/541 [==============================] - 9s 16ms/step - loss: 0.0396 - accuracy: 0.9865\n",
      "Epoch 53/100\n",
      "541/541 [==============================] - 10s 18ms/step - loss: 0.0324 - accuracy: 0.98930s - loss:\n",
      "Epoch 54/100\n",
      "541/541 [==============================] - 9s 16ms/step - loss: 0.0510 - accuracy: 0.9840\n",
      "Epoch 55/100\n",
      "541/541 [==============================] - 9s 17ms/step - loss: 0.0462 - accuracy: 0.9882\n",
      "Epoch 56/100\n",
      "541/541 [==============================] - 9s 16ms/step - loss: 0.0301 - accuracy: 0.9901\n",
      "Epoch 57/100\n",
      "541/541 [==============================] - 9s 16ms/step - loss: 0.0292 - accuracy: 0.9921\n",
      "Epoch 58/100\n",
      "541/541 [==============================] - 9s 16ms/step - loss: 0.0297 - accuracy: 0.9906\n",
      "Epoch 59/100\n",
      "541/541 [==============================] - 9s 17ms/step - loss: 0.0196 - accuracy: 0.9949\n",
      "Epoch 60/100\n",
      "541/541 [==============================] - 9s 16ms/step - loss: 0.0482 - accuracy: 0.9890\n",
      "Epoch 61/100\n",
      "541/541 [==============================] - 9s 16ms/step - loss: 0.0401 - accuracy: 0.9875\n",
      "Epoch 62/100\n",
      "541/541 [==============================] - 9s 16ms/step - loss: 0.0399 - accuracy: 0.9895\n",
      "Epoch 63/100\n",
      "541/541 [==============================] - 9s 16ms/step - loss: 0.0490 - accuracy: 0.9869\n",
      "Epoch 64/100\n",
      "541/541 [==============================] - 8s 16ms/step - loss: 0.0401 - accuracy: 0.9875\n",
      "Epoch 65/100\n",
      "541/541 [==============================] - 9s 16ms/step - loss: 0.0295 - accuracy: 0.9919\n",
      "Epoch 66/100\n",
      "541/541 [==============================] - 9s 16ms/step - loss: 0.0267 - accuracy: 0.9952\n",
      "Epoch 67/100\n",
      "541/541 [==============================] - 9s 16ms/step - loss: 0.0182 - accuracy: 0.9956\n",
      "Epoch 68/100\n",
      "541/541 [==============================] - 9s 16ms/step - loss: 0.0388 - accuracy: 0.9882\n",
      "Epoch 69/100\n",
      "541/541 [==============================] - 9s 16ms/step - loss: 0.0545 - accuracy: 0.9842\n",
      "Epoch 70/100\n",
      "541/541 [==============================] - 9s 16ms/step - loss: 0.0274 - accuracy: 0.9917\n",
      "Epoch 71/100\n",
      "541/541 [==============================] - 9s 16ms/step - loss: 0.0193 - accuracy: 0.9942\n",
      "Epoch 72/100\n",
      "541/541 [==============================] - 9s 16ms/step - loss: 0.0157 - accuracy: 0.9957\n",
      "Epoch 73/100\n",
      "541/541 [==============================] - 8s 16ms/step - loss: 0.0328 - accuracy: 0.9917\n",
      "Epoch 74/100\n",
      "541/541 [==============================] - 9s 16ms/step - loss: 0.0602 - accuracy: 0.9833\n",
      "Epoch 75/100\n",
      "541/541 [==============================] - 9s 16ms/step - loss: 0.0389 - accuracy: 0.9915\n",
      "Epoch 76/100\n",
      "541/541 [==============================] - 9s 16ms/step - loss: 0.0290 - accuracy: 0.9920\n",
      "Epoch 77/100\n",
      "541/541 [==============================] - 9s 16ms/step - loss: 0.0232 - accuracy: 0.9940\n",
      "Epoch 78/100\n",
      "541/541 [==============================] - 9s 16ms/step - loss: 0.0143 - accuracy: 0.9956\n",
      "Epoch 79/100\n",
      "541/541 [==============================] - 9s 17ms/step - loss: 0.0150 - accuracy: 0.9955\n",
      "Epoch 80/100\n",
      "541/541 [==============================] - 9s 17ms/step - loss: 0.0367 - accuracy: 0.9930\n",
      "Epoch 81/100\n",
      "541/541 [==============================] - 10s 18ms/step - loss: 0.0289 - accuracy: 0.9920\n",
      "Epoch 82/100\n",
      "541/541 [==============================] - 9s 17ms/step - loss: 0.0470 - accuracy: 0.9866\n",
      "Epoch 83/100\n",
      "541/541 [==============================] - 9s 17ms/step - loss: 0.2680 - accuracy: 0.9870\n",
      "Epoch 84/100\n",
      "541/541 [==============================] - 10s 18ms/step - loss: 0.0276 - accuracy: 0.9933\n",
      "Epoch 85/100\n",
      "541/541 [==============================] - 9s 17ms/step - loss: 0.0147 - accuracy: 0.9971\n",
      "Epoch 86/100\n",
      "541/541 [==============================] - 9s 16ms/step - loss: 0.0134 - accuracy: 0.9978\n",
      "Epoch 87/100\n",
      "541/541 [==============================] - 9s 16ms/step - loss: 0.0164 - accuracy: 0.9958\n",
      "Epoch 88/100\n",
      "541/541 [==============================] - 9s 16ms/step - loss: 0.0284 - accuracy: 0.9934\n",
      "Epoch 89/100\n",
      "541/541 [==============================] - 9s 17ms/step - loss: 0.0246 - accuracy: 0.9941\n",
      "Epoch 90/100\n",
      "541/541 [==============================] - 9s 16ms/step - loss: 0.0384 - accuracy: 0.9909\n",
      "Epoch 91/100\n",
      "541/541 [==============================] - 9s 16ms/step - loss: 0.0246 - accuracy: 0.9935\n",
      "Epoch 92/100\n",
      "541/541 [==============================] - 9s 16ms/step - loss: 0.0333 - accuracy: 0.9912\n",
      "Epoch 93/100\n",
      "541/541 [==============================] - 9s 16ms/step - loss: 0.0346 - accuracy: 0.9914\n",
      "Epoch 94/100\n",
      "541/541 [==============================] - 9s 16ms/step - loss: 0.0294 - accuracy: 0.9921\n",
      "Epoch 95/100\n",
      "541/541 [==============================] - 10s 18ms/step - loss: 0.0189 - accuracy: 0.9950\n",
      "Epoch 96/100\n",
      "541/541 [==============================] - 10s 18ms/step - loss: 0.0211 - accuracy: 0.9951\n",
      "Epoch 97/100\n",
      "541/541 [==============================] - 10s 18ms/step - loss: 0.0094 - accuracy: 0.9982\n",
      "Epoch 98/100\n",
      "541/541 [==============================] - 10s 19ms/step - loss: 0.0076 - accuracy: 0.9985\n",
      "Epoch 99/100\n",
      "541/541 [==============================] - 9s 17ms/step - loss: 0.0297 - accuracy: 0.9919\n",
      "Epoch 100/100\n",
      "541/541 [==============================] - 9s 17ms/step - loss: 0.0414 - accuracy: 0.9899\n"
     ]
    },
    {
     "data": {
      "text/plain": [
       "<tensorflow.python.keras.callbacks.History at 0x28a4a961488>"
      ]
     },
     "execution_count": 10,
     "metadata": {},
     "output_type": "execute_result"
    }
   ],
   "source": [
    "# Fit the model to the training data\n",
    "\n",
    "network.fit(images_train, labels_train, epochs = 100, batch_size = 32)"
   ]
  },
  {
   "cell_type": "code",
   "execution_count": 11,
   "metadata": {},
   "outputs": [
    {
     "name": "stderr",
     "output_type": "stream",
     "text": [
      "C:\\Users\\titan\\Anaconda3\\lib\\site-packages\\tensorflow\\python\\keras\\engine\\sequential.py:450: UserWarning: `model.predict_classes()` is deprecated and will be removed after 2021-01-01. Please use instead:* `np.argmax(model.predict(x), axis=-1)`,   if your model does multi-class classification   (e.g. if it uses a `softmax` last-layer activation).* `(model.predict(x) > 0.5).astype(\"int32\")`,   if your model does binary classification   (e.g. if it uses a `sigmoid` last-layer activation).\n",
      "  warnings.warn('`model.predict_classes()` is deprecated and '\n"
     ]
    }
   ],
   "source": [
    "# Generate predicted targets for the testing image data\n",
    "\n",
    "labels_pred = network.predict_classes(images_test)"
   ]
  },
  {
   "cell_type": "code",
   "execution_count": 12,
   "metadata": {},
   "outputs": [
    {
     "name": "stdout",
     "output_type": "stream",
     "text": [
      "0.6767560073937153\n",
      "0.2013986013986014\n",
      "0.14814814814814814\n"
     ]
    }
   ],
   "source": [
    "# Print the accuracy, precision, and recall scores of the\n",
    "# predicted targets\n",
    "\n",
    "print(accuracy_score(labels_test, labels_pred))\n",
    "print(precision_score(labels_test, labels_pred))\n",
    "print(recall_score(labels_test, labels_pred))"
   ]
  },
  {
   "cell_type": "code",
   "execution_count": 13,
   "metadata": {},
   "outputs": [],
   "source": [
    "# Save the model\n",
    "\n",
    "network.save('base_model.h5')"
   ]
  },
  {
   "cell_type": "code",
   "execution_count": 14,
   "metadata": {},
   "outputs": [],
   "source": [
    "# Load the previously saved model, and set the parameters\n",
    "# to fixed values\n",
    "\n",
    "base_model = keras.models.load_model('base_model.h5')\n",
    "base_model.trainable = False"
   ]
  },
  {
   "cell_type": "code",
   "execution_count": 29,
   "metadata": {},
   "outputs": [
    {
     "name": "stdout",
     "output_type": "stream",
     "text": [
      "Model: \"sequential_3\"\n",
      "_________________________________________________________________\n",
      "Layer (type)                 Output Shape              Param #   \n",
      "=================================================================\n",
      "sequential (Sequential)      (None, 1)                 460225    \n",
      "_________________________________________________________________\n",
      "flatten_3 (Flatten)          (None, 1)                 0         \n",
      "_________________________________________________________________\n",
      "dense_4 (Dense)              (None, 1)                 2         \n",
      "=================================================================\n",
      "Total params: 460,227\n",
      "Trainable params: 2\n",
      "Non-trainable params: 460,225\n",
      "_________________________________________________________________\n"
     ]
    }
   ],
   "source": [
    "# Augment the CNN architecture by adding more\n",
    "# adjustable parameters via transfer learning\n",
    "\n",
    "model = Sequential([base_model,\n",
    "                    tf.keras.layers.Flatten(),\n",
    "                    tf.keras.layers.Dense(1, activation='sigmoid')])\n",
    "\n",
    "model.compile(optimizer='adam',\n",
    "              loss=\"binary_crossentropy\",\n",
    "              metrics=['accuracy'])\n",
    "\n",
    "model.summary()"
   ]
  },
  {
   "cell_type": "code",
   "execution_count": 30,
   "metadata": {},
   "outputs": [
    {
     "name": "stdout",
     "output_type": "stream",
     "text": [
      "Epoch 1/100\n",
      "541/541 [==============================] - 3s 5ms/step - loss: 0.6699 - accuracy: 0.7832\n",
      "Epoch 2/100\n",
      "541/541 [==============================] - 3s 5ms/step - loss: 0.5372 - accuracy: 0.7846\n",
      "Epoch 3/100\n",
      "541/541 [==============================] - 3s 5ms/step - loss: 0.4505 - accuracy: 0.7857\n",
      "Epoch 4/100\n",
      "541/541 [==============================] - 3s 5ms/step - loss: 0.3894 - accuracy: 0.9320\n",
      "Epoch 5/100\n",
      "541/541 [==============================] - 3s 5ms/step - loss: 0.3477 - accuracy: 0.9336\n",
      "Epoch 6/100\n",
      "541/541 [==============================] - 2s 4ms/step - loss: 0.3183 - accuracy: 0.9326\n",
      "Epoch 7/100\n",
      "541/541 [==============================] - 2s 4ms/step - loss: 0.2979 - accuracy: 0.9312\n",
      "Epoch 8/100\n",
      "541/541 [==============================] - 2s 4ms/step - loss: 0.2740 - accuracy: 0.9342\n",
      "Epoch 9/100\n",
      "541/541 [==============================] - 3s 5ms/step - loss: 0.2651 - accuracy: 0.9318\n",
      "Epoch 10/100\n",
      "541/541 [==============================] - 3s 5ms/step - loss: 0.2623 - accuracy: 0.9275\n",
      "Epoch 11/100\n",
      "541/541 [==============================] - 3s 5ms/step - loss: 0.2472 - accuracy: 0.9329\n",
      "Epoch 12/100\n",
      "541/541 [==============================] - 3s 5ms/step - loss: 0.2507 - accuracy: 0.9290\n",
      "Epoch 13/100\n",
      "541/541 [==============================] - 3s 5ms/step - loss: 0.2387 - accuracy: 0.9332\n",
      "Epoch 14/100\n",
      "541/541 [==============================] - 3s 6ms/step - loss: 0.2464 - accuracy: 0.9285\n",
      "Epoch 15/100\n",
      "541/541 [==============================] - 3s 5ms/step - loss: 0.2366 - accuracy: 0.9316\n",
      "Epoch 16/100\n",
      "541/541 [==============================] - 3s 5ms/step - loss: 0.2416 - accuracy: 0.9284\n",
      "Epoch 17/100\n",
      "541/541 [==============================] - 3s 5ms/step - loss: 0.2352 - accuracy: 0.9312\n",
      "Epoch 18/100\n",
      "541/541 [==============================] - 3s 5ms/step - loss: 0.2443 - accuracy: 0.9280\n",
      "Epoch 19/100\n",
      "541/541 [==============================] - 3s 5ms/step - loss: 0.2319 - accuracy: 0.9327\n",
      "Epoch 20/100\n",
      "541/541 [==============================] - 2s 5ms/step - loss: 0.2421 - accuracy: 0.9279\n",
      "Epoch 21/100\n",
      "541/541 [==============================] - 2s 4ms/step - loss: 0.2447 - accuracy: 0.9263\n",
      "Epoch 22/100\n",
      "541/541 [==============================] - 2s 4ms/step - loss: 0.2286 - accuracy: 0.9336\n",
      "Epoch 23/100\n",
      "541/541 [==============================] - 2s 4ms/step - loss: 0.2327 - accuracy: 0.9317\n",
      "Epoch 24/100\n",
      "541/541 [==============================] - 2s 4ms/step - loss: 0.2322 - accuracy: 0.9312\n",
      "Epoch 25/100\n",
      "541/541 [==============================] - 2s 4ms/step - loss: 0.2338 - accuracy: 0.9308\n",
      "Epoch 26/100\n",
      "541/541 [==============================] - 2s 4ms/step - loss: 0.2266 - accuracy: 0.9340\n",
      "Epoch 27/100\n",
      "541/541 [==============================] - 2s 4ms/step - loss: 0.2254 - accuracy: 0.9343\n",
      "Epoch 28/100\n",
      "541/541 [==============================] - 2s 4ms/step - loss: 0.2321 - accuracy: 0.9325\n",
      "Epoch 29/100\n",
      "541/541 [==============================] - 3s 5ms/step - loss: 0.2285 - accuracy: 0.9322\n",
      "Epoch 30/100\n",
      "541/541 [==============================] - 2s 4ms/step - loss: 0.2339 - accuracy: 0.9306\n",
      "Epoch 31/100\n",
      "541/541 [==============================] - 2s 4ms/step - loss: 0.2299 - accuracy: 0.9327\n",
      "Epoch 32/100\n",
      "541/541 [==============================] - 2s 4ms/step - loss: 0.2304 - accuracy: 0.9323\n",
      "Epoch 33/100\n",
      "541/541 [==============================] - 3s 5ms/step - loss: 0.2356 - accuracy: 0.9299\n",
      "Epoch 34/100\n",
      "541/541 [==============================] - 3s 5ms/step - loss: 0.2392 - accuracy: 0.9298\n",
      "Epoch 35/100\n",
      "541/541 [==============================] - 2s 5ms/step - loss: 0.2357 - accuracy: 0.9298\n",
      "Epoch 36/100\n",
      "541/541 [==============================] - 2s 5ms/step - loss: 0.2330 - accuracy: 0.9316\n",
      "Epoch 37/100\n",
      "541/541 [==============================] - 3s 5ms/step - loss: 0.2288 - accuracy: 0.9327\n",
      "Epoch 38/100\n",
      "541/541 [==============================] - 3s 5ms/step - loss: 0.2382 - accuracy: 0.9294\n",
      "Epoch 39/100\n",
      "541/541 [==============================] - 3s 5ms/step - loss: 0.2380 - accuracy: 0.9291\n",
      "Epoch 40/100\n",
      "541/541 [==============================] - 2s 4ms/step - loss: 0.2401 - accuracy: 0.9284\n",
      "Epoch 41/100\n",
      "541/541 [==============================] - 2s 4ms/step - loss: 0.2315 - accuracy: 0.9310\n",
      "Epoch 42/100\n",
      "541/541 [==============================] - 2s 4ms/step - loss: 0.2327 - accuracy: 0.9321\n",
      "Epoch 43/100\n",
      "541/541 [==============================] - 2s 4ms/step - loss: 0.2398 - accuracy: 0.9298\n",
      "Epoch 44/100\n",
      "541/541 [==============================] - 2s 4ms/step - loss: 0.2379 - accuracy: 0.9300\n",
      "Epoch 45/100\n",
      "541/541 [==============================] - 2s 4ms/step - loss: 0.2391 - accuracy: 0.9293\n",
      "Epoch 46/100\n",
      "541/541 [==============================] - 2s 4ms/step - loss: 0.2355 - accuracy: 0.9309\n",
      "Epoch 47/100\n",
      "541/541 [==============================] - 2s 4ms/step - loss: 0.2310 - accuracy: 0.9323\n",
      "Epoch 48/100\n",
      "541/541 [==============================] - 2s 4ms/step - loss: 0.2294 - accuracy: 0.9325\n",
      "Epoch 49/100\n",
      "541/541 [==============================] - 2s 4ms/step - loss: 0.2250 - accuracy: 0.9335\n",
      "Epoch 50/100\n",
      "541/541 [==============================] - 2s 4ms/step - loss: 0.2369 - accuracy: 0.9298\n",
      "Epoch 51/100\n",
      "541/541 [==============================] - 2s 4ms/step - loss: 0.2389 - accuracy: 0.9289\n",
      "Epoch 52/100\n",
      "541/541 [==============================] - 2s 4ms/step - loss: 0.2313 - accuracy: 0.9324\n",
      "Epoch 53/100\n",
      "541/541 [==============================] - 2s 4ms/step - loss: 0.2299 - accuracy: 0.9316\n",
      "Epoch 54/100\n",
      "541/541 [==============================] - 2s 4ms/step - loss: 0.2320 - accuracy: 0.9319\n",
      "Epoch 55/100\n",
      "541/541 [==============================] - 2s 4ms/step - loss: 0.2350 - accuracy: 0.9308\n",
      "Epoch 56/100\n",
      "541/541 [==============================] - 2s 4ms/step - loss: 0.2453 - accuracy: 0.9269\n",
      "Epoch 57/100\n",
      "541/541 [==============================] - 2s 4ms/step - loss: 0.2419 - accuracy: 0.9275\n",
      "Epoch 58/100\n",
      "541/541 [==============================] - 2s 4ms/step - loss: 0.2346 - accuracy: 0.9299\n",
      "Epoch 59/100\n",
      "541/541 [==============================] - 2s 4ms/step - loss: 0.2355 - accuracy: 0.9311\n",
      "Epoch 60/100\n",
      "541/541 [==============================] - 2s 5ms/step - loss: 0.2327 - accuracy: 0.9314\n",
      "Epoch 61/100\n",
      "541/541 [==============================] - 2s 4ms/step - loss: 0.2443 - accuracy: 0.9270\n",
      "Epoch 62/100\n",
      "541/541 [==============================] - 2s 4ms/step - loss: 0.2293 - accuracy: 0.9326\n",
      "Epoch 63/100\n",
      "541/541 [==============================] - 2s 4ms/step - loss: 0.2275 - accuracy: 0.9338\n",
      "Epoch 64/100\n",
      "541/541 [==============================] - 2s 4ms/step - loss: 0.2271 - accuracy: 0.9333\n",
      "Epoch 65/100\n",
      "541/541 [==============================] - 2s 4ms/step - loss: 0.2359 - accuracy: 0.9308\n",
      "Epoch 66/100\n",
      "541/541 [==============================] - 2s 4ms/step - loss: 0.2312 - accuracy: 0.9327\n",
      "Epoch 67/100\n",
      "541/541 [==============================] - 2s 4ms/step - loss: 0.2359 - accuracy: 0.9302\n",
      "Epoch 68/100\n",
      "541/541 [==============================] - 2s 4ms/step - loss: 0.2322 - accuracy: 0.9320\n",
      "Epoch 69/100\n",
      "541/541 [==============================] - 2s 5ms/step - loss: 0.2328 - accuracy: 0.9308\n",
      "Epoch 70/100\n",
      "541/541 [==============================] - 2s 4ms/step - loss: 0.2341 - accuracy: 0.9315\n",
      "Epoch 71/100\n",
      "541/541 [==============================] - 2s 4ms/step - loss: 0.2361 - accuracy: 0.9300\n",
      "Epoch 72/100\n",
      "541/541 [==============================] - 2s 5ms/step - loss: 0.2372 - accuracy: 0.9299\n",
      "Epoch 73/100\n",
      "541/541 [==============================] - 2s 4ms/step - loss: 0.2293 - accuracy: 0.9323\n",
      "Epoch 74/100\n",
      "541/541 [==============================] - 2s 4ms/step - loss: 0.2428 - accuracy: 0.9272\n",
      "Epoch 75/100\n",
      "541/541 [==============================] - 2s 4ms/step - loss: 0.2359 - accuracy: 0.9302\n",
      "Epoch 76/100\n",
      "541/541 [==============================] - 2s 4ms/step - loss: 0.2329 - accuracy: 0.9322\n",
      "Epoch 77/100\n",
      "541/541 [==============================] - 2s 4ms/step - loss: 0.2301 - accuracy: 0.9325\n",
      "Epoch 78/100\n",
      "541/541 [==============================] - 2s 4ms/step - loss: 0.2436 - accuracy: 0.9273\n",
      "Epoch 79/100\n",
      "541/541 [==============================] - 2s 4ms/step - loss: 0.2322 - accuracy: 0.9323\n",
      "Epoch 80/100\n",
      "541/541 [==============================] - 3s 5ms/step - loss: 0.2355 - accuracy: 0.9299\n",
      "Epoch 81/100\n",
      "541/541 [==============================] - 2s 4ms/step - loss: 0.2350 - accuracy: 0.9317\n",
      "Epoch 82/100\n",
      "541/541 [==============================] - 3s 5ms/step - loss: 0.2344 - accuracy: 0.9306\n",
      "Epoch 83/100\n",
      "541/541 [==============================] - 2s 4ms/step - loss: 0.2445 - accuracy: 0.9272\n",
      "Epoch 84/100\n",
      "541/541 [==============================] - 2s 4ms/step - loss: 0.2278 - accuracy: 0.9337\n",
      "Epoch 85/100\n",
      "541/541 [==============================] - 2s 4ms/step - loss: 0.2292 - accuracy: 0.9325\n",
      "Epoch 86/100\n",
      "541/541 [==============================] - 2s 4ms/step - loss: 0.2347 - accuracy: 0.9302\n",
      "Epoch 87/100\n",
      "541/541 [==============================] - 3s 5ms/step - loss: 0.2339 - accuracy: 0.9312\n",
      "Epoch 88/100\n",
      "541/541 [==============================] - 2s 4ms/step - loss: 0.2333 - accuracy: 0.9316\n",
      "Epoch 89/100\n",
      "541/541 [==============================] - 3s 5ms/step - loss: 0.2291 - accuracy: 0.9333\n",
      "Epoch 90/100\n",
      "541/541 [==============================] - 3s 5ms/step - loss: 0.2275 - accuracy: 0.9329\n",
      "Epoch 91/100\n",
      "541/541 [==============================] - 3s 5ms/step - loss: 0.2339 - accuracy: 0.9301\n",
      "Epoch 92/100\n",
      "541/541 [==============================] - 2s 4ms/step - loss: 0.2333 - accuracy: 0.9322\n",
      "Epoch 93/100\n",
      "541/541 [==============================] - 2s 4ms/step - loss: 0.2378 - accuracy: 0.9300\n",
      "Epoch 94/100\n",
      "541/541 [==============================] - 3s 5ms/step - loss: 0.2326 - accuracy: 0.9308\n",
      "Epoch 95/100\n",
      "541/541 [==============================] - 3s 5ms/step - loss: 0.2325 - accuracy: 0.9317\n",
      "Epoch 96/100\n",
      "541/541 [==============================] - 2s 4ms/step - loss: 0.2382 - accuracy: 0.9298\n",
      "Epoch 97/100\n",
      "541/541 [==============================] - 2s 4ms/step - loss: 0.2285 - accuracy: 0.9332\n",
      "Epoch 98/100\n",
      "541/541 [==============================] - 2s 4ms/step - loss: 0.2348 - accuracy: 0.9297\n",
      "Epoch 99/100\n",
      "541/541 [==============================] - 2s 5ms/step - loss: 0.2368 - accuracy: 0.9306\n",
      "Epoch 100/100\n",
      "541/541 [==============================] - 2s 4ms/step - loss: 0.2343 - accuracy: 0.9311\n"
     ]
    }
   ],
   "source": [
    "# Fit this augmented model to the training data\n",
    "\n",
    "history = model.fit(images_train, labels_train,\n",
    "                    epochs=100,\n",
    "                    batch_size=32)"
   ]
  },
  {
   "cell_type": "code",
   "execution_count": 32,
   "metadata": {},
   "outputs": [],
   "source": [
    "# Generate predicted targets for the testing image data\n",
    "\n",
    "labels_pred = model.predict_classes(images_test)"
   ]
  },
  {
   "cell_type": "code",
   "execution_count": 41,
   "metadata": {},
   "outputs": [
    {
     "name": "stdout",
     "output_type": "stream",
     "text": [
      "0.9265249537892791\n",
      "0.8464961067853171\n",
      "0.8087141339001063\n",
      "0.8271739130434782\n"
     ]
    }
   ],
   "source": [
    "# Print the accuracy, precision, and recall scores of the\n",
    "# predicted targets\n",
    "\n",
    "print(accuracy_score(labels_test, labels_pred))\n",
    "print(precision_score(labels_test, labels_pred))\n",
    "print(recall_score(labels_test, labels_pred))\n",
    "print(f1_score(labels_test, labels_pred))"
   ]
  }
 ],
 "metadata": {
  "kernelspec": {
   "display_name": "Python 3",
   "language": "python",
   "name": "python3"
  },
  "language_info": {
   "codemirror_mode": {
    "name": "ipython",
    "version": 3
   },
   "file_extension": ".py",
   "mimetype": "text/x-python",
   "name": "python",
   "nbconvert_exporter": "python",
   "pygments_lexer": "ipython3",
   "version": "3.7.6"
  }
 },
 "nbformat": 4,
 "nbformat_minor": 4
}
